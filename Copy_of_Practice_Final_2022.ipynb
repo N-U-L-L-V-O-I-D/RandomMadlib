{
  "cells": [
    {
      "cell_type": "markdown",
      "metadata": {
        "collapsed": true,
        "pycharm": {
          "name": "#%% md\n"
        },
        "id": "qKKYGhvRPVCJ"
      },
      "source": [
        "# Welcome to the practice final!\n",
        "\n",
        "You have 120 minutes (more for DRC accommodation students) to complete the exam and submit it through Canvas. The exam is out of 65, with 5 points of extra credit available. Attempt all questions! Partial credit will be given for wrong but partially correct answers. Follow the instructions. Save your work as you go! When done, submit the **.ipynb** file through canvas. We will compare answers to detect cheating and cheaters will get zero."
      ]
    },
    {
      "cell_type": "markdown",
      "source": [
        "(1) [5] Write a **generator function** called \"powersOfTwo\" which takes a positive integer argument x and YIELDS successive powers of two in the sequence 2\\*\\*0=1, 2\\*\\*1=2, 2\\*\\*2=4, 2\\*\\*3=8, 2\\*\\*4==16, 2\\*\\*5==32, ... 2\\*\\*x"
      ],
      "metadata": {
        "collapsed": false,
        "pycharm": {
          "name": "#%% md\n"
        },
        "id": "wxfMYTrPPVCO"
      }
    },
    {
      "cell_type": "code",
      "execution_count": null,
      "outputs": [
        {
          "output_type": "stream",
          "name": "stdout",
          "text": [
            "0 1\n",
            "1 2\n",
            "2 4\n",
            "3 8\n",
            "4 16\n",
            "5 32\n",
            "6 64\n",
            "7 128\n",
            "8 256\n",
            "9 512\n"
          ]
        }
      ],
      "source": [
        "# Write your function below\n",
        "def powersOfTwo(x): #creating power function that takes in integer\n",
        "  for i in range(x): #loops from 0 - 9\n",
        "    j = pow(2, i) #var j is 2 to power of i\n",
        "    yield j #'returns' j after each loop interation\n",
        "\n",
        "\n",
        "\n",
        "# This code should work\n",
        "for i, j in enumerate(powersOfTwo(10)): #calls function through loop, enumerate() is built-in function\n",
        "    print(i, j) #prints (power, result)\n",
        "    assert 2**i == j # This assert should be true"
      ],
      "metadata": {
        "pycharm": {
          "name": "#%%\n"
        },
        "id": "r0GrrFz9PVCP",
        "outputId": "e11ecf95-0fa0-4fdf-fc52-379ff91cc048",
        "colab": {
          "base_uri": "https://localhost:8080/"
        }
      }
    },
    {
      "cell_type": "markdown",
      "source": [
        "(2) [2pts] Use the **mean** function from the **statistics** module to calculate the average of the list."
      ],
      "metadata": {
        "collapsed": false,
        "pycharm": {
          "name": "#%% md\n"
        },
        "id": "hN-j_W9KPVCR"
      }
    },
    {
      "cell_type": "code",
      "execution_count": null,
      "outputs": [
        {
          "output_type": "stream",
          "name": "stdout",
          "text": [
            "4.555555555555555\n"
          ]
        }
      ],
      "source": [
        "x = [ 1, 8, 3, 4, 2, 8, 7, 2, 6 ] #creating list that contains values\n",
        "#y = [1, 2, 3, 4, 5, 6]\n",
        "\n",
        "## Write your code here - note you should use an import statement\n",
        "import statistics # imports the statistics module\n",
        "mean = statistics.mean(x) #var assigned to the mean if x (values in the list)\n",
        "print(mean) #prints the mean"
      ],
      "metadata": {
        "pycharm": {
          "name": "#%%\n"
        },
        "id": "tWzAH4eQPVCR",
        "colab": {
          "base_uri": "https://localhost:8080/"
        },
        "outputId": "87604c28-ac4d-4173-ea05-456a3118726b"
      }
    },
    {
      "cell_type": "markdown",
      "source": [
        "(3) [4pts] Fix the code by debugging it. The code should read two numbers from the user and print the resulting sum of the numbers."
      ],
      "metadata": {
        "collapsed": false,
        "pycharm": {
          "name": "#%% md\n"
        },
        "id": "uoPhGMtJPVCS"
      }
    },
    {
      "cell_type": "code",
      "execution_count": null,
      "outputs": [
        {
          "output_type": "stream",
          "name": "stdout",
          "text": [
            "Give me a number: 10\n",
            "Give me a another number: 5\n",
            "The sum of your two numbers is:  15.0\n"
          ]
        }
      ],
      "source": [
        "# Fix this code so that it works\n",
        "# It has a syntax, runtime and semantic errors\n",
        "\n",
        "x = float(input(\"Give me a number: \"))\n",
        "y = float(input(\"Give me a another number: \"))\n",
        "print(\"The sum of your two numbers is: \", x + y)\n",
        "\n",
        "#The sum of your two numbers is:  15.0"
      ],
      "metadata": {
        "pycharm": {
          "name": "#%%\n"
        },
        "id": "p06sE_cqPVCS",
        "outputId": "ca14a2ee-1de0-4a89-9683-3ae319252613",
        "colab": {
          "base_uri": "https://localhost:8080/"
        }
      }
    },
    {
      "cell_type": "markdown",
      "source": [
        "(4) [6pts] Write the list of integers (whole numbers) l to file \"ints.txt\", putting each integer on a different line. Use the \"with\" keyword to ensure that the file handle is cleaned up.\n"
      ],
      "metadata": {
        "collapsed": false,
        "pycharm": {
          "name": "#%% md\n"
        },
        "id": "pPB-hn9gPVCT"
      }
    },
    {
      "cell_type": "code",
      "execution_count": null,
      "outputs": [
        {
          "output_type": "stream",
          "name": "stdout",
          "text": [
            "[0, 1, 2, 3, 4, 5, 6, 7, 8, 9, 10, 11, 12, 13, 14, 15, 16, 17, 18, 19, 20, 21, 22, 23, 24, 25, 26, 27, 28, 29, 30, 31, 32, 33, 34, 35, 36, 37, 38, 39, 40, 41, 42, 43, 44, 45, 46, 47, 48, 49, 50, 51, 52, 53, 54, 55, 56, 57, 58, 59, 60, 61, 62, 63, 64, 65, 66, 67, 68, 69, 70, 71, 72, 73, 74, 75, 76, 77, 78, 79, 80, 81, 82, 83, 84, 85, 86, 87, 88, 89, 90, 91, 92, 93, 94, 95, 96, 97, 98, 99]\n"
          ]
        }
      ],
      "source": [
        "#LOOK OVER\n",
        "#ask if line 101 is allowed \n",
        "\n",
        "l = list(range(100)) #list from 0 - 99 using list()\n",
        "print(l)\n",
        "\n",
        "# Write your code below to write l to \"ints.txt\" putting each number on a new line\n",
        "import csv \n",
        "\n",
        "with open('ints.txt', 'w') as new_file:\n",
        "  for i in l:\n",
        "    new_file.write(str(l[i]))\n",
        "    new_file.write('\\n')"
      ],
      "metadata": {
        "pycharm": {
          "name": "#%%\n"
        },
        "id": "oRIFLs9RPVCU",
        "colab": {
          "base_uri": "https://localhost:8080/"
        },
        "outputId": "26e3ba1d-ff05-454b-c061-956d1bf42a7a"
      }
    },
    {
      "cell_type": "markdown",
      "source": [
        "(5) [5pts] Read the list of integers, you wrote in the previous question, from \"ints.txt\" to a list l2. Again, use the \"with\" keyword to ensure that the file handle is cleaned up."
      ],
      "metadata": {
        "collapsed": false,
        "pycharm": {
          "name": "#%% md\n"
        },
        "id": "FnRhkLH8PVCU"
      }
    },
    {
      "cell_type": "code",
      "execution_count": null,
      "outputs": [
        {
          "output_type": "stream",
          "name": "stdout",
          "text": [
            "[0, 1, 2, 3, 4, 5, 6, 7, 8, 9, 10, 11, 12, 13, 14, 15, 16, 17, 18, 19, 20, 21, 22, 23, 24, 25, 26, 27, 28, 29, 30, 31, 32, 33, 34, 35, 36, 37, 38, 39, 40, 41, 42, 43, 44, 45, 46, 47, 48, 49, 50, 51, 52, 53, 54, 55, 56, 57, 58, 59, 60, 61, 62, 63, 64, 65, 66, 67, 68, 69, 70, 71, 72, 73, 74, 75, 76, 77, 78, 79, 80, 81, 82, 83, 84, 85, 86, 87, 88, 89, 90, 91, 92, 93, 94, 95, 96, 97, 98, 99]\n"
          ]
        }
      ],
      "source": [
        "#LOOK OVER\n",
        "#howt to append individual number\n",
        "\n",
        "# Write your code here\n",
        "import csv\n",
        "\n",
        "with open('ints.txt', 'r') as csvfile:\n",
        "  csvreader = csv.reader(csvfile)\n",
        "  l2 = []\n",
        "  for i in csvreader:\n",
        "    l2.append(int(i[0]))\n",
        "\n",
        "print(l2)\n",
        "\n",
        "\n",
        "# When you're done the following should be true\n",
        "assert l == l2"
      ],
      "metadata": {
        "pycharm": {
          "name": "#%%\n"
        },
        "id": "goNf_9dwPVCV",
        "colab": {
          "base_uri": "https://localhost:8080/"
        },
        "outputId": "192c2e76-7414-47f6-f130-df6c49172412"
      }
    },
    {
      "cell_type": "markdown",
      "source": [
        "(6) [2pts] Delete the file \"ints.txt\" you created in the previous questions. Hint: Use a function in the os module."
      ],
      "metadata": {
        "collapsed": false,
        "pycharm": {
          "name": "#%% md\n"
        },
        "id": "tpgDoyUKPVCV"
      }
    },
    {
      "cell_type": "code",
      "execution_count": null,
      "outputs": [],
      "source": [
        "# Write your code here\n",
        "import os\n",
        "os.remove(\"ints.txt\")"
      ],
      "metadata": {
        "pycharm": {
          "name": "#%%\n"
        },
        "id": "01vd4LVxPVCW"
      }
    },
    {
      "cell_type": "markdown",
      "source": [
        "(7) [4pts] Imagine you are designing a program to model a home. Create a class named \"Room\". The class should have an \\_\\_init\\_\\_ method that takes three arguments, \"room_name\", \"length\", and \"width\" and creates object variables with corresponding names. Include a docstring for class."
      ],
      "metadata": {
        "collapsed": false,
        "pycharm": {
          "name": "#%% md\n"
        },
        "id": "C58v8I71PVCW"
      }
    },
    {
      "cell_type": "code",
      "execution_count": null,
      "outputs": [
        {
          "output_type": "stream",
          "name": "stdout",
          "text": [
            "Room name: kitchen, length: 25, width: 15\n"
          ]
        }
      ],
      "source": [
        "#CORRECT\n",
        "class Room:\n",
        "  def __init__(self, room_name, length, width):\n",
        "    '''takes arguments for model home and creates object variables\n",
        "    with the corresponding arguments'''\n",
        "    self.room_name = room_name\n",
        "    self.length = length\n",
        "    self.width = width\n",
        "\n",
        "\n",
        "# When you're done this code should work\n",
        "k = Room(\"kitchen\", 25, 15)\n",
        "assert k.room_name == \"kitchen\"\n",
        "assert k.length == 25\n",
        "assert k.width == 15\n",
        "print(f\"Room name: {k.room_name}, length: {k.length}, width: {k.width}\")\n",
        "\n",
        "#Room name: kitchen, length: 25, width: 15"
      ],
      "metadata": {
        "pycharm": {
          "name": "#%%\n"
        },
        "id": "_ER-UzkJPVCX",
        "outputId": "72202aaa-53d1-44f4-84b1-37828eba6980",
        "colab": {
          "base_uri": "https://localhost:8080/"
        }
      }
    },
    {
      "cell_type": "markdown",
      "source": [
        "(8) [4pts] Expand your \"Room\" class definition to include a method so that if you print a room object the room_name, length and width object variables are output."
      ],
      "metadata": {
        "collapsed": false,
        "id": "CGjJdpQgPVCX"
      }
    },
    {
      "cell_type": "code",
      "execution_count": null,
      "outputs": [
        {
          "output_type": "stream",
          "name": "stdout",
          "text": [
            "Room name: kitchen, length: 25, width: 15\n"
          ]
        }
      ],
      "source": [
        "#CORRECT\n",
        "# Copy and paste your \"Room\" class definition from the previous question and add the requested method\n",
        "class Room:\n",
        "  def __init__(self, room_name, length, width):\n",
        "    '''takes arguments for model home and creates object variables\n",
        "    with the corresponding arguments'''\n",
        "    self.room_name = room_name\n",
        "    self.length = length\n",
        "    self.width = width\n",
        "\n",
        "  def __str__(self): #returns a string instead of <mflskjfsd .dflmaofmp f. vblah blah>\n",
        "    return f\"Room name: {self.room_name}, length: {self.length}, width: {self.width}\"\n",
        "\n",
        "\n",
        "# When you're done this code should work\n",
        "k = Room(\"kitchen\", 25, 15)\n",
        "assert k.room_name == \"kitchen\"\n",
        "assert k.length == 25\n",
        "assert k.width == 15\n",
        "print(k) # Should print something like \"Room name: kitchen, length: 25, width: 15\""
      ],
      "metadata": {
        "pycharm": {
          "name": "#%%\n"
        },
        "id": "byWeySwSPVCX",
        "outputId": "d99caf39-b76f-4dda-baa4-749f3fa92000",
        "colab": {
          "base_uri": "https://localhost:8080/"
        }
      }
    },
    {
      "cell_type": "markdown",
      "source": [
        "(9) [9pts] Complete the House class as described."
      ],
      "metadata": {
        "collapsed": false,
        "pycharm": {
          "name": "#%% md\n"
        },
        "id": "bGQKyEb7PVCY"
      }
    },
    {
      "cell_type": "code",
      "execution_count": null,
      "outputs": [
        {
          "output_type": "error",
          "ename": "TypeError",
          "evalue": "ignored",
          "traceback": [
            "\u001b[0;31m---------------------------------------------------------------------------\u001b[0m",
            "\u001b[0;31mTypeError\u001b[0m                                 Traceback (most recent call last)",
            "\u001b[0;32m<ipython-input-23-338dfcf6ae15>\u001b[0m in \u001b[0;36m<module>\u001b[0;34m\u001b[0m\n\u001b[1;32m     35\u001b[0m \u001b[0;31m# When you're done this code should work\u001b[0m\u001b[0;34m\u001b[0m\u001b[0;34m\u001b[0m\u001b[0;34m\u001b[0m\u001b[0m\n\u001b[1;32m     36\u001b[0m \u001b[0mh\u001b[0m \u001b[0;34m=\u001b[0m \u001b[0mHouse\u001b[0m\u001b[0;34m(\u001b[0m\u001b[0;34m\"420 Ocean St, Santa Cruz, Ca\"\u001b[0m\u001b[0;34m)\u001b[0m\u001b[0;34m\u001b[0m\u001b[0;34m\u001b[0m\u001b[0m\n\u001b[0;32m---> 37\u001b[0;31m \u001b[0mh\u001b[0m\u001b[0;34m.\u001b[0m\u001b[0maddRoom\u001b[0m\u001b[0;34m(\u001b[0m\u001b[0;34m\"kitchen\"\u001b[0m\u001b[0;34m,\u001b[0m \u001b[0;36m25\u001b[0m\u001b[0;34m,\u001b[0m \u001b[0;36m15\u001b[0m\u001b[0;34m)\u001b[0m\u001b[0;34m\u001b[0m\u001b[0;34m\u001b[0m\u001b[0m\n\u001b[0m\u001b[1;32m     38\u001b[0m \u001b[0mh\u001b[0m\u001b[0;34m.\u001b[0m\u001b[0maddRoom\u001b[0m\u001b[0;34m(\u001b[0m\u001b[0;34m\"bathroom\"\u001b[0m\u001b[0;34m,\u001b[0m \u001b[0;36m12\u001b[0m\u001b[0;34m,\u001b[0m \u001b[0;36m8\u001b[0m\u001b[0;34m)\u001b[0m\u001b[0;34m\u001b[0m\u001b[0;34m\u001b[0m\u001b[0m\n\u001b[1;32m     39\u001b[0m \u001b[0mh\u001b[0m\u001b[0;34m.\u001b[0m\u001b[0maddRoom\u001b[0m\u001b[0;34m(\u001b[0m\u001b[0;34m\"bedroom\"\u001b[0m\u001b[0;34m,\u001b[0m \u001b[0;36m15\u001b[0m\u001b[0;34m,\u001b[0m \u001b[0;36m15\u001b[0m\u001b[0;34m)\u001b[0m\u001b[0;34m\u001b[0m\u001b[0;34m\u001b[0m\u001b[0m\n",
            "\u001b[0;31mTypeError\u001b[0m: addRoom() takes 2 positional arguments but 4 were given"
          ]
        }
      ],
      "source": [
        "class House:\n",
        "    def __init__(self, address):\n",
        "        self.address = address\n",
        "        self.rooms = []\n",
        "\n",
        "    ### (1) Add a method named \"addRoom\" which takes\n",
        "    ### a room object and adds it to the list of rooms\n",
        "    def Room(self, room, height, width):\n",
        "      self.room = room\n",
        "      self.height = height\n",
        "      self.width = width\n",
        "    \n",
        "\n",
        "    def addRoom(self, room):\n",
        "      self.rooms.append(self.room)\n",
        "      print(self.rooms)\n",
        "\n",
        "\n",
        "    ### (2) Add a method \"size\" which calculates the\n",
        "    ### sum of the areas of the rooms the house contains\n",
        "    ### For example if the house contains two rooms with proportions:\n",
        "    ### (width=10, length=12) and (width=7, length=7)\n",
        "    ## then \"size\" would return 10*12 + 7*7 = 169\n",
        "    def size(self, height, width):\n",
        "      area = 0\n",
        "      for i in range(len(rooms)):\n",
        "        area = area + (rooms[i].height * rooms[i].width)\n",
        "      return area\n",
        "\n",
        "\n",
        "\n",
        "    ### (3) Add a method __lt__ which compares this house\n",
        "    ### to another house object using the size method.\n",
        "    ### such that if this house has a smaller size than the other\n",
        "    ### house then this method will return True else it will return False\n",
        "\n",
        "\n",
        "\n",
        "\n",
        "# When you're done this code should work\n",
        "h = House(\"420 Ocean St, Santa Cruz, Ca\")\n",
        "h.addRoom(Room(\"kitchen\", 25, 15))\n",
        "h.addRoom(Room(\"bathroom\", 12, 8))\n",
        "h.addRoom(Room(\"bedroom\", 15, 15))\n",
        "assert h.size() == 25*15 + 12*8 + 15*15\n",
        "\n",
        "h2 = House(\"1156 High St, Santa Cruz, Ca\")\n",
        "h2.addRoom(Room(\"lecture theatre\", 100, 100))\n",
        "assert h2.size() == 100 * 100\n",
        "assert h < h2 # Because h.size() < h2.size()"
      ],
      "metadata": {
        "pycharm": {
          "name": "#%%\n"
        },
        "id": "46QuVslvPVCY",
        "colab": {
          "base_uri": "https://localhost:8080/",
          "height": 240
        },
        "outputId": "f7d3742b-49a7-4e84-93ad-87a3ac44db99"
      }
    },
    {
      "cell_type": "markdown",
      "source": [
        "(10) [4pts] Create a class \"Apartment\" that inherits from the \"House\" class. Modify the \\_\\_init\\_\\_ method to take an \"apartment_number\" and \"address\" arguments. In the modified \\_\\_init\\_\\_ method call the parent House class's \\_\\_init\\_\\_ method, store the apartment_number as a new object variable."
      ],
      "metadata": {
        "collapsed": false,
        "pycharm": {
          "name": "#%% md\n"
        },
        "id": "ncJu3QMjPVCY"
      }
    },
    {
      "cell_type": "code",
      "execution_count": null,
      "outputs": [
        {
          "name": "stdout",
          "output_type": "stream",
          "text": [
            "Apartment number: Apartment 5, Address:201 Meder St, Santa Cruz, Ca\n"
          ]
        }
      ],
      "source": [
        "# Write your code here\n",
        "\n",
        "\n",
        "\n",
        "# When you're done this should work\n",
        "a = Apartment(\"Apartment 5\", \"201 Meder St, Santa Cruz, Ca\")\n",
        "print(f\"Apartment number: {a.apartment_number}, Address:{a.address}\") # Should print \"Apartment number: 5, Address: 201 Meder St, Santa Cruz, Ca\""
      ],
      "metadata": {
        "pycharm": {
          "name": "#%%\n"
        },
        "id": "SqDknv7QPVCZ",
        "outputId": "1e9577c4-94a2-4bea-94c5-94144776338d"
      }
    },
    {
      "cell_type": "markdown",
      "source": [
        "(11) [5pts] Write a **recursive** function called *pow* that takes a pair of arguments *x* and *y* and returns *x\\*\\*y*. Assume that *x* and *y* are integers (whole numbers) greater than or equal to 0. **Do not use either the \\*\\* operator or the *math.pow* function**."
      ],
      "metadata": {
        "collapsed": false,
        "pycharm": {
          "name": "#%% md\n"
        },
        "id": "VimrB5l-PVCZ"
      }
    },
    {
      "cell_type": "code",
      "execution_count": null,
      "outputs": [],
      "source": [
        "## Write your code here\n",
        "def pow(x, y):\n",
        "  if y == 0:\n",
        "    return 1\n",
        "  else:\n",
        "    return (x*pow(x,y-1))\n",
        "\n",
        "\n",
        "# When you're done this should work\n",
        "assert 1 == pow(2, 0)\n",
        "assert 2 == pow(2, 1)\n",
        "assert 4 == pow(2, 2)\n",
        "assert 8 == pow(2, 3)\n",
        "assert 16 == pow(2, 4)\n",
        "assert 81 == pow(3, 4)"
      ],
      "metadata": {
        "pycharm": {
          "name": "#%%\n"
        },
        "id": "71mbKLmYPVCZ"
      }
    },
    {
      "cell_type": "markdown",
      "source": [
        "(12) [2pts] Complete the lambda function to sort the strings by their length."
      ],
      "metadata": {
        "collapsed": false,
        "pycharm": {
          "name": "#%% md\n"
        },
        "id": "V7rI8R_mPVCa"
      }
    },
    {
      "cell_type": "code",
      "execution_count": null,
      "outputs": [],
      "source": [
        "l = [ \"this\", \"is\", \"a\", \"sentence\", \"you\", \"sorts\"]\n",
        "\n",
        "l2 = sorted(l, key=lambda ### Code TO COMPLETE)\n",
        "\n",
        "# This should be true\n",
        "assert [\"a\", \"is\", \"you\", \"this\", \"sorts\", \"sentence\"] == l2"
      ],
      "metadata": {
        "pycharm": {
          "name": "#%%\n"
        },
        "id": "HD8yU9M0PVCa"
      }
    },
    {
      "cell_type": "markdown",
      "source": [
        "(13) [8pts] Write code to ask a user to enter a number, storing the value as a variable x. In the case that the user does not enter a valid number print a message saying \"Not a valid number, try again\" and re-prompt the user, looping until the user enters a valid number. Once the user has entered a valid number print \"You entered: XX\", where XX is the number the user entered.\n",
        "Hint: use exception handling. The exception ValueError is returned by the float method if the input can not be\n",
        "converted to a number."
      ],
      "metadata": {
        "collapsed": false,
        "pycharm": {
          "name": "#%% md\n"
        },
        "id": "gtWWMdvdPVCa"
      }
    },
    {
      "cell_type": "code",
      "execution_count": null,
      "outputs": [
        {
          "name": "stdout",
          "output_type": "stream",
          "text": [
            "You entered 5.0\n"
          ]
        }
      ],
      "source": [
        "# Write your code here\n",
        "\n"
      ],
      "metadata": {
        "pycharm": {
          "name": "#%%\n"
        },
        "id": "8mDUZlY8PVCa",
        "outputId": "56c7d634-16d9-4ed1-a159-c8d4476551ef"
      }
    },
    {
      "cell_type": "markdown",
      "source": [
        "(14) [4pts] Build a dictionary of words to the index (index starting from 0) of their first occurrence in Alice in Wonderland. Here assume words are defined by \"alice_words\" as any non-zero length sequence of non-white-space characters and note we ignore case by converting words to lower-case."
      ],
      "metadata": {
        "collapsed": false,
        "pycharm": {
          "name": "#%% md\n"
        },
        "id": "IwT0-Ja9PVCa"
      }
    },
    {
      "cell_type": "code",
      "execution_count": null,
      "outputs": [],
      "source": [
        "import urllib.request\n",
        "\n",
        "# Location of book\n",
        "url = \"http://openbookproject.net/thinkcs/python/english3e/_downloads/alice_in_wonderland.txt\"\n",
        "local_copy = \"alice_in_wonderland.txt\" # Local file to store book in\n",
        "\n",
        "urllib.request.urlretrieve(url, local_copy) # This function copies the\n",
        "# thing the url points at into the local file copy\n",
        "\n",
        "with open(local_copy) as fh: # Read from the local file into a string\n",
        "  alice_text = fh.read()\n",
        "\n",
        "alice_words = [i.lower() for i in alice_text.split()] # Split alice into words and make lower case\n",
        "\n",
        "words_to_first_occurrences = {} # Dictionary to complete\n",
        "\n",
        "## Code to write\n",
        "\n",
        "\n",
        "\n",
        "\n",
        "## When done the following should be true\n",
        "assert words_to_first_occurrences[\"hatter\"] == 13384\n",
        "assert words_to_first_occurrences[\"cat\"] == 3861"
      ],
      "metadata": {
        "pycharm": {
          "name": "#%%\n"
        },
        "id": "-HVT-XNVPVCb"
      }
    },
    {
      "cell_type": "markdown",
      "source": [
        "(15) [1pt] Print the number of unique words (according to our definition of a word) in Alice in wonderland."
      ],
      "metadata": {
        "collapsed": false,
        "pycharm": {
          "name": "#%% md\n"
        },
        "id": "zE3fvGX1PVCb"
      }
    },
    {
      "cell_type": "code",
      "execution_count": null,
      "outputs": [],
      "source": [
        "## Code to write\n"
      ],
      "metadata": {
        "pycharm": {
          "name": "#%%\n"
        },
        "id": "iJJo_5hZPVCb"
      }
    },
    {
      "cell_type": "markdown",
      "source": [
        "(16) [5pts] [Extra credit] A singleton word is a word that occurs only once in the text. Adapt your previous code to only store singleton words in the dictionary *unique_words_to_first_occurrences*.\n"
      ],
      "metadata": {
        "collapsed": false,
        "pycharm": {
          "name": "#%% md\n"
        },
        "id": "MpEC0JPXPVCc"
      }
    },
    {
      "cell_type": "code",
      "execution_count": null,
      "outputs": [
        {
          "ename": "AssertionError",
          "evalue": "",
          "output_type": "error",
          "traceback": [
            "\u001b[0;31m---------------------------------------------------------------------------\u001b[0m",
            "\u001b[0;31mAssertionError\u001b[0m                            Traceback (most recent call last)",
            "Input \u001b[0;32mIn [40]\u001b[0m, in \u001b[0;36m<module>\u001b[0;34m\u001b[0m\n\u001b[1;32m      1\u001b[0m unique_words_to_first_occurrences \u001b[38;5;241m=\u001b[39m {} \u001b[38;5;66;03m# Dictionary to complete of words that occur\u001b[39;00m\n\u001b[1;32m      2\u001b[0m \u001b[38;5;66;03m# exactly once in alice to the index of their occurrence\u001b[39;00m\n\u001b[1;32m      3\u001b[0m \n\u001b[1;32m      4\u001b[0m \u001b[38;5;66;03m## Code to write\u001b[39;00m\n\u001b[1;32m      5\u001b[0m \n\u001b[1;32m      6\u001b[0m \n\u001b[1;32m      7\u001b[0m \u001b[38;5;66;03m## This should be true when you're done\u001b[39;00m\n\u001b[0;32m----> 8\u001b[0m \u001b[38;5;28;01massert\u001b[39;00m unique_words_to_first_occurrences \u001b[38;5;241m==\u001b[39m \u001b[38;5;241m3015\u001b[39m\n",
            "\u001b[0;31mAssertionError\u001b[0m: "
          ]
        }
      ],
      "source": [
        "unique_words_to_first_occurrences = {} # Dictionary to complete of words that occur\n",
        "# exactly once in alice to the index of their occurrence\n",
        "\n",
        "## Code to write\n",
        "\n",
        "\n"
      ],
      "metadata": {
        "pycharm": {
          "name": "#%%\n"
        },
        "id": "jrMykH5HPVCc",
        "outputId": "4e1d71a6-8f05-4aad-9481-53e91b73b1c3"
      }
    },
    {
      "cell_type": "markdown",
      "source": [],
      "metadata": {
        "collapsed": false,
        "pycharm": {
          "name": "#%% md\n"
        },
        "id": "GyaP6pKxPVCc"
      }
    }
  ],
  "metadata": {
    "kernelspec": {
      "display_name": "Python 3",
      "language": "python",
      "name": "python3"
    },
    "language_info": {
      "codemirror_mode": {
        "name": "ipython",
        "version": 2
      },
      "file_extension": ".py",
      "mimetype": "text/x-python",
      "name": "python",
      "nbconvert_exporter": "python",
      "pygments_lexer": "ipython2",
      "version": "2.7.6"
    },
    "colab": {
      "provenance": []
    }
  },
  "nbformat": 4,
  "nbformat_minor": 0
}